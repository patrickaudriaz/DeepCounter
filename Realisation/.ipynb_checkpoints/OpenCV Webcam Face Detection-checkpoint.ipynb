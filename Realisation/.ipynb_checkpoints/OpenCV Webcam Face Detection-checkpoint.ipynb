{
 "cells": [
  {
   "cell_type": "code",
   "execution_count": 1,
   "metadata": {},
   "outputs": [],
   "source": [
    "import os\n",
    "import sys\n",
    "import numpy as np\n",
    "\n",
    "os.sys.path\n",
    "\n",
    "import cv2\n",
    "\n",
    "counter = 0"
   ]
  },
  {
   "cell_type": "code",
   "execution_count": 2,
   "metadata": {},
   "outputs": [],
   "source": [
    "video = cv2.VideoCapture(0)\n",
    "\n",
    "height = video.get(cv2.CAP_PROP_FRAME_HEIGHT)\n",
    "width = video.get(cv2.CAP_PROP_FRAME_WIDTH)\n",
    "\n",
    "# faceCascade = cv2.CascadeClassifier(cv2.data.haarcascades + 'haarcascade_frontalface_default.xml')\n",
    "faceCascade = cv2.CascadeClassifier('../../Anaconda3/Library/etc/haarcascades/haarcascade_frontalface_default.xml')\n",
    "\n",
    "font = cv2.FONT_HERSHEY_SIMPLEX"
   ]
  },
  {
   "cell_type": "code",
   "execution_count": 3,
   "metadata": {
    "scrolled": true
   },
   "outputs": [],
   "source": [
    "while(True):\n",
    "    # Capture frame-by-frame\n",
    "    ret, frame = video.read()\n",
    "    \n",
    "    frame = cv2.flip(frame, 1)\n",
    "\n",
    "    gray = cv2.cvtColor(frame, cv2.COLOR_BGR2GRAY)\n",
    "    \n",
    "    faces = faceCascade.detectMultiScale(gray, 1.3, 5)\n",
    "    coord = str(faces)\n",
    "    \n",
    "    fps = str(video.get(cv2.CAP_PROP_FPS))\n",
    "    \n",
    "    cv2.putText(frame, coord, (0,20), font, 0.7, (0,255,0), 1, cv2.LINE_AA)\n",
    "    cv2.putText(frame, fps, (0,50), font, 0.7, (0,255,0), 1, cv2.LINE_AA)\n",
    "    \n",
    "    cv2.line(frame,(int(width/3), 0),(int(width/3),int(height)),(0,0,255),2)\n",
    "    cv2.line(frame,(int(width/3*2), 0),(int(width/3*2),int(height)),(255,0,255),2)\n",
    "\n",
    "\n",
    "    # Draw a rectangle around the faces\n",
    "    for (x, y, w, h) in faces:\n",
    "        cv2.rectangle(frame, (x, y), (x+w, y+h), (0, 255, 0), 2)\n",
    "\n",
    "    \n",
    "    cv2.imshow('video', frame)\n",
    "    \n",
    "    if cv2.waitKey(1) == ord('q'):\n",
    "        break\n",
    "        \n",
    "# When everything done, release the capture\n",
    "video.release()\n",
    "cv2.destroyAllWindows()"
   ]
  }
 ],
 "metadata": {
  "kernelspec": {
   "display_name": "Python 3",
   "language": "python",
   "name": "python3"
  },
  "language_info": {
   "codemirror_mode": {
    "name": "ipython",
    "version": 3
   },
   "file_extension": ".py",
   "mimetype": "text/x-python",
   "name": "python",
   "nbconvert_exporter": "python",
   "pygments_lexer": "ipython3",
   "version": "3.7.3"
  }
 },
 "nbformat": 4,
 "nbformat_minor": 2
}
